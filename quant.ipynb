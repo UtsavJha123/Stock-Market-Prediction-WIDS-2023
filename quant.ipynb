{
 "cells": [
  {
   "cell_type": "code",
   "execution_count": 45,
   "metadata": {},
   "outputs": [],
   "source": [
    "import pandas as pd\n",
    "import numpy as np\n",
    "import matplotlib.pyplot as plt"
   ]
  },
  {
   "cell_type": "code",
   "execution_count": 46,
   "metadata": {},
   "outputs": [],
   "source": [
    "df_=pd.read_csv(r\"D:\\Project QUANT\\AMZN_1min.txt\",header=None,parse_dates=[0])"
   ]
  },
  {
   "cell_type": "code",
   "execution_count": 47,
   "metadata": {},
   "outputs": [
    {
     "data": {
      "text/html": [
       "<div>\n",
       "<style scoped>\n",
       "    .dataframe tbody tr th:only-of-type {\n",
       "        vertical-align: middle;\n",
       "    }\n",
       "\n",
       "    .dataframe tbody tr th {\n",
       "        vertical-align: top;\n",
       "    }\n",
       "\n",
       "    .dataframe thead th {\n",
       "        text-align: right;\n",
       "    }\n",
       "</style>\n",
       "<table border=\"1\" class=\"dataframe\">\n",
       "  <thead>\n",
       "    <tr style=\"text-align: right;\">\n",
       "      <th></th>\n",
       "      <th>0</th>\n",
       "      <th>1</th>\n",
       "      <th>2</th>\n",
       "      <th>3</th>\n",
       "      <th>4</th>\n",
       "      <th>5</th>\n",
       "    </tr>\n",
       "  </thead>\n",
       "  <tbody>\n",
       "    <tr>\n",
       "      <th>0</th>\n",
       "      <td>2005-01-03 08:00:00</td>\n",
       "      <td>44.56</td>\n",
       "      <td>45.14</td>\n",
       "      <td>44.56</td>\n",
       "      <td>44.75</td>\n",
       "      <td>2322</td>\n",
       "    </tr>\n",
       "    <tr>\n",
       "      <th>1</th>\n",
       "      <td>2005-01-03 08:01:00</td>\n",
       "      <td>45.13</td>\n",
       "      <td>45.30</td>\n",
       "      <td>45.08</td>\n",
       "      <td>45.10</td>\n",
       "      <td>5426</td>\n",
       "    </tr>\n",
       "    <tr>\n",
       "      <th>2</th>\n",
       "      <td>2005-01-03 08:02:00</td>\n",
       "      <td>45.30</td>\n",
       "      <td>45.35</td>\n",
       "      <td>45.30</td>\n",
       "      <td>45.35</td>\n",
       "      <td>400</td>\n",
       "    </tr>\n",
       "    <tr>\n",
       "      <th>3</th>\n",
       "      <td>2005-01-03 08:03:00</td>\n",
       "      <td>45.35</td>\n",
       "      <td>45.35</td>\n",
       "      <td>45.30</td>\n",
       "      <td>45.35</td>\n",
       "      <td>2000</td>\n",
       "    </tr>\n",
       "    <tr>\n",
       "      <th>4</th>\n",
       "      <td>2005-01-03 08:04:00</td>\n",
       "      <td>45.35</td>\n",
       "      <td>45.58</td>\n",
       "      <td>45.30</td>\n",
       "      <td>45.55</td>\n",
       "      <td>3750</td>\n",
       "    </tr>\n",
       "  </tbody>\n",
       "</table>\n",
       "</div>"
      ],
      "text/plain": [
       "                    0      1      2      3      4     5\n",
       "0 2005-01-03 08:00:00  44.56  45.14  44.56  44.75  2322\n",
       "1 2005-01-03 08:01:00  45.13  45.30  45.08  45.10  5426\n",
       "2 2005-01-03 08:02:00  45.30  45.35  45.30  45.35   400\n",
       "3 2005-01-03 08:03:00  45.35  45.35  45.30  45.35  2000\n",
       "4 2005-01-03 08:04:00  45.35  45.58  45.30  45.55  3750"
      ]
     },
     "execution_count": 47,
     "metadata": {},
     "output_type": "execute_result"
    }
   ],
   "source": [
    "df_.head()"
   ]
  },
  {
   "cell_type": "code",
   "execution_count": 48,
   "metadata": {},
   "outputs": [],
   "source": [
    "df_.columns=[\"time\",\"open\",\"max\",\"min\",\"close\",\"volume\"]"
   ]
  },
  {
   "cell_type": "code",
   "execution_count": 49,
   "metadata": {},
   "outputs": [
    {
     "name": "stdout",
     "output_type": "stream",
     "text": [
      "<class 'pandas.core.frame.DataFrame'>\n",
      "RangeIndex: 2001747 entries, 0 to 2001746\n",
      "Data columns (total 6 columns):\n",
      " #   Column  Dtype         \n",
      "---  ------  -----         \n",
      " 0   time    datetime64[ns]\n",
      " 1   open    float64       \n",
      " 2   max     float64       \n",
      " 3   min     float64       \n",
      " 4   close   float64       \n",
      " 5   volume  int64         \n",
      "dtypes: datetime64[ns](1), float64(4), int64(1)\n",
      "memory usage: 91.6 MB\n"
     ]
    }
   ],
   "source": [
    "df_.info()"
   ]
  },
  {
   "cell_type": "code",
   "execution_count": 50,
   "metadata": {},
   "outputs": [],
   "source": [
    "day= df_[ (df_[\"time\"]>\"2005-01-13 09:30:00\") & (df_[\"time\"]<\"2005-01-20 16:00:00\")]"
   ]
  },
  {
   "cell_type": "code",
   "execution_count": 51,
   "metadata": {},
   "outputs": [
    {
     "data": {
      "text/html": [
       "<div>\n",
       "<style scoped>\n",
       "    .dataframe tbody tr th:only-of-type {\n",
       "        vertical-align: middle;\n",
       "    }\n",
       "\n",
       "    .dataframe tbody tr th {\n",
       "        vertical-align: top;\n",
       "    }\n",
       "\n",
       "    .dataframe thead th {\n",
       "        text-align: right;\n",
       "    }\n",
       "</style>\n",
       "<table border=\"1\" class=\"dataframe\">\n",
       "  <thead>\n",
       "    <tr style=\"text-align: right;\">\n",
       "      <th></th>\n",
       "      <th>time</th>\n",
       "      <th>open</th>\n",
       "      <th>max</th>\n",
       "      <th>min</th>\n",
       "      <th>close</th>\n",
       "      <th>volume</th>\n",
       "    </tr>\n",
       "  </thead>\n",
       "  <tbody>\n",
       "    <tr>\n",
       "      <th>3601</th>\n",
       "      <td>2005-01-13 09:31:00</td>\n",
       "      <td>42.50</td>\n",
       "      <td>42.68</td>\n",
       "      <td>42.40</td>\n",
       "      <td>42.620</td>\n",
       "      <td>38116</td>\n",
       "    </tr>\n",
       "    <tr>\n",
       "      <th>3602</th>\n",
       "      <td>2005-01-13 09:32:00</td>\n",
       "      <td>42.64</td>\n",
       "      <td>42.71</td>\n",
       "      <td>42.60</td>\n",
       "      <td>42.700</td>\n",
       "      <td>33085</td>\n",
       "    </tr>\n",
       "    <tr>\n",
       "      <th>3603</th>\n",
       "      <td>2005-01-13 09:33:00</td>\n",
       "      <td>42.68</td>\n",
       "      <td>42.68</td>\n",
       "      <td>42.56</td>\n",
       "      <td>42.640</td>\n",
       "      <td>30262</td>\n",
       "    </tr>\n",
       "    <tr>\n",
       "      <th>3604</th>\n",
       "      <td>2005-01-13 09:34:00</td>\n",
       "      <td>42.64</td>\n",
       "      <td>42.67</td>\n",
       "      <td>42.58</td>\n",
       "      <td>42.610</td>\n",
       "      <td>56279</td>\n",
       "    </tr>\n",
       "    <tr>\n",
       "      <th>3605</th>\n",
       "      <td>2005-01-13 09:35:00</td>\n",
       "      <td>42.61</td>\n",
       "      <td>42.66</td>\n",
       "      <td>42.38</td>\n",
       "      <td>42.457</td>\n",
       "      <td>87830</td>\n",
       "    </tr>\n",
       "    <tr>\n",
       "      <th>...</th>\n",
       "      <td>...</td>\n",
       "      <td>...</td>\n",
       "      <td>...</td>\n",
       "      <td>...</td>\n",
       "      <td>...</td>\n",
       "      <td>...</td>\n",
       "    </tr>\n",
       "    <tr>\n",
       "      <th>5839</th>\n",
       "      <td>2005-01-20 15:55:00</td>\n",
       "      <td>42.27</td>\n",
       "      <td>42.28</td>\n",
       "      <td>42.25</td>\n",
       "      <td>42.250</td>\n",
       "      <td>55006</td>\n",
       "    </tr>\n",
       "    <tr>\n",
       "      <th>5840</th>\n",
       "      <td>2005-01-20 15:56:00</td>\n",
       "      <td>42.27</td>\n",
       "      <td>42.28</td>\n",
       "      <td>42.20</td>\n",
       "      <td>42.220</td>\n",
       "      <td>81931</td>\n",
       "    </tr>\n",
       "    <tr>\n",
       "      <th>5841</th>\n",
       "      <td>2005-01-20 15:57:00</td>\n",
       "      <td>42.21</td>\n",
       "      <td>42.28</td>\n",
       "      <td>42.21</td>\n",
       "      <td>42.260</td>\n",
       "      <td>24954</td>\n",
       "    </tr>\n",
       "    <tr>\n",
       "      <th>5842</th>\n",
       "      <td>2005-01-20 15:58:00</td>\n",
       "      <td>42.27</td>\n",
       "      <td>42.37</td>\n",
       "      <td>42.23</td>\n",
       "      <td>42.320</td>\n",
       "      <td>56592</td>\n",
       "    </tr>\n",
       "    <tr>\n",
       "      <th>5843</th>\n",
       "      <td>2005-01-20 15:59:00</td>\n",
       "      <td>42.34</td>\n",
       "      <td>42.41</td>\n",
       "      <td>42.29</td>\n",
       "      <td>42.360</td>\n",
       "      <td>89664</td>\n",
       "    </tr>\n",
       "  </tbody>\n",
       "</table>\n",
       "<p>2243 rows × 6 columns</p>\n",
       "</div>"
      ],
      "text/plain": [
       "                    time   open    max    min   close  volume\n",
       "3601 2005-01-13 09:31:00  42.50  42.68  42.40  42.620   38116\n",
       "3602 2005-01-13 09:32:00  42.64  42.71  42.60  42.700   33085\n",
       "3603 2005-01-13 09:33:00  42.68  42.68  42.56  42.640   30262\n",
       "3604 2005-01-13 09:34:00  42.64  42.67  42.58  42.610   56279\n",
       "3605 2005-01-13 09:35:00  42.61  42.66  42.38  42.457   87830\n",
       "...                  ...    ...    ...    ...     ...     ...\n",
       "5839 2005-01-20 15:55:00  42.27  42.28  42.25  42.250   55006\n",
       "5840 2005-01-20 15:56:00  42.27  42.28  42.20  42.220   81931\n",
       "5841 2005-01-20 15:57:00  42.21  42.28  42.21  42.260   24954\n",
       "5842 2005-01-20 15:58:00  42.27  42.37  42.23  42.320   56592\n",
       "5843 2005-01-20 15:59:00  42.34  42.41  42.29  42.360   89664\n",
       "\n",
       "[2243 rows x 6 columns]"
      ]
     },
     "execution_count": 51,
     "metadata": {},
     "output_type": "execute_result"
    }
   ],
   "source": [
    "day"
   ]
  },
  {
   "cell_type": "code",
   "execution_count": 52,
   "metadata": {},
   "outputs": [
    {
     "data": {
      "text/plain": [
       "[<matplotlib.lines.Line2D at 0x18b3f6df010>]"
      ]
     },
     "execution_count": 52,
     "metadata": {},
     "output_type": "execute_result"
    },
    {
     "data": {
      "image/png": "[encoded data removed]",
      "text/plain": [
       "<Figure size 500x500 with 1 Axes>"
      ]
     },
     "metadata": {},
     "output_type": "display_data"
    }
   ],
   "source": [
    "#plt.plot(df.time, df.close)\n",
    "plt.figure(figsize=(5, 5))  # Specify width and height in inches\n",
    "plt.xlabel(\"time\")\n",
    "plt.ylabel(\"closing price\")\n",
    "plt.plot(day.time, day.close)\n"
   ]
  },
  {
   "cell_type": "code",
   "execution_count": 53,
   "metadata": {},
   "outputs": [],
   "source": [
    "df= day[[\"time\", \"close\"]]\n",
    "df.head()\n",
    "df.set_index('time', inplace=True)\n"
   ]
  },
  {
   "cell_type": "code",
   "execution_count": 54,
   "metadata": {},
   "outputs": [
    {
     "data": {
      "text/html": [
       "<div>\n",
       "<style scoped>\n",
       "    .dataframe tbody tr th:only-of-type {\n",
       "        vertical-align: middle;\n",
       "    }\n",
       "\n",
       "    .dataframe tbody tr th {\n",
       "        vertical-align: top;\n",
       "    }\n",
       "\n",
       "    .dataframe thead th {\n",
       "        text-align: right;\n",
       "    }\n",
       "</style>\n",
       "<table border=\"1\" class=\"dataframe\">\n",
       "  <thead>\n",
       "    <tr style=\"text-align: right;\">\n",
       "      <th></th>\n",
       "      <th>close</th>\n",
       "    </tr>\n",
       "    <tr>\n",
       "      <th>time</th>\n",
       "      <th></th>\n",
       "    </tr>\n",
       "  </thead>\n",
       "  <tbody>\n",
       "    <tr>\n",
       "      <th>2005-01-13 09:31:00</th>\n",
       "      <td>42.620</td>\n",
       "    </tr>\n",
       "    <tr>\n",
       "      <th>2005-01-13 09:32:00</th>\n",
       "      <td>42.700</td>\n",
       "    </tr>\n",
       "    <tr>\n",
       "      <th>2005-01-13 09:33:00</th>\n",
       "      <td>42.640</td>\n",
       "    </tr>\n",
       "    <tr>\n",
       "      <th>2005-01-13 09:34:00</th>\n",
       "      <td>42.610</td>\n",
       "    </tr>\n",
       "    <tr>\n",
       "      <th>2005-01-13 09:35:00</th>\n",
       "      <td>42.457</td>\n",
       "    </tr>\n",
       "  </tbody>\n",
       "</table>\n",
       "</div>"
      ],
      "text/plain": [
       "                      close\n",
       "time                       \n",
       "2005-01-13 09:31:00  42.620\n",
       "2005-01-13 09:32:00  42.700\n",
       "2005-01-13 09:33:00  42.640\n",
       "2005-01-13 09:34:00  42.610\n",
       "2005-01-13 09:35:00  42.457"
      ]
     },
     "execution_count": 54,
     "metadata": {},
     "output_type": "execute_result"
    }
   ],
   "source": [
    "df.head()"
   ]
  },
  {
   "cell_type": "code",
   "execution_count": 55,
   "metadata": {},
   "outputs": [],
   "source": [
    "df.isnull().sum()\n",
    "df2=df"
   ]
  },
  {
   "cell_type": "code",
   "execution_count": 56,
   "metadata": {},
   "outputs": [
    {
     "data": {
      "text/html": [
       "<div>\n",
       "<style scoped>\n",
       "    .dataframe tbody tr th:only-of-type {\n",
       "        vertical-align: middle;\n",
       "    }\n",
       "\n",
       "    .dataframe tbody tr th {\n",
       "        vertical-align: top;\n",
       "    }\n",
       "\n",
       "    .dataframe thead th {\n",
       "        text-align: right;\n",
       "    }\n",
       "</style>\n",
       "<table border=\"1\" class=\"dataframe\">\n",
       "  <thead>\n",
       "    <tr style=\"text-align: right;\">\n",
       "      <th></th>\n",
       "      <th>close</th>\n",
       "      <th>close(t-1)</th>\n",
       "      <th>close(t-2)</th>\n",
       "      <th>close(t-3)</th>\n",
       "      <th>close(t-4)</th>\n",
       "      <th>close(t-5)</th>\n",
       "    </tr>\n",
       "    <tr>\n",
       "      <th>time</th>\n",
       "      <th></th>\n",
       "      <th></th>\n",
       "      <th></th>\n",
       "      <th></th>\n",
       "      <th></th>\n",
       "      <th></th>\n",
       "    </tr>\n",
       "  </thead>\n",
       "  <tbody>\n",
       "    <tr>\n",
       "      <th>2005-01-13 09:36:00</th>\n",
       "      <td>42.55</td>\n",
       "      <td>42.457</td>\n",
       "      <td>42.610</td>\n",
       "      <td>42.640</td>\n",
       "      <td>42.700</td>\n",
       "      <td>42.620</td>\n",
       "    </tr>\n",
       "    <tr>\n",
       "      <th>2005-01-13 09:37:00</th>\n",
       "      <td>42.45</td>\n",
       "      <td>42.550</td>\n",
       "      <td>42.457</td>\n",
       "      <td>42.610</td>\n",
       "      <td>42.640</td>\n",
       "      <td>42.700</td>\n",
       "    </tr>\n",
       "    <tr>\n",
       "      <th>2005-01-13 09:38:00</th>\n",
       "      <td>42.52</td>\n",
       "      <td>42.450</td>\n",
       "      <td>42.550</td>\n",
       "      <td>42.457</td>\n",
       "      <td>42.610</td>\n",
       "      <td>42.640</td>\n",
       "    </tr>\n",
       "    <tr>\n",
       "      <th>2005-01-13 09:39:00</th>\n",
       "      <td>42.46</td>\n",
       "      <td>42.520</td>\n",
       "      <td>42.450</td>\n",
       "      <td>42.550</td>\n",
       "      <td>42.457</td>\n",
       "      <td>42.610</td>\n",
       "    </tr>\n",
       "    <tr>\n",
       "      <th>2005-01-13 09:40:00</th>\n",
       "      <td>42.52</td>\n",
       "      <td>42.460</td>\n",
       "      <td>42.520</td>\n",
       "      <td>42.450</td>\n",
       "      <td>42.550</td>\n",
       "      <td>42.457</td>\n",
       "    </tr>\n",
       "    <tr>\n",
       "      <th>...</th>\n",
       "      <td>...</td>\n",
       "      <td>...</td>\n",
       "      <td>...</td>\n",
       "      <td>...</td>\n",
       "      <td>...</td>\n",
       "      <td>...</td>\n",
       "    </tr>\n",
       "    <tr>\n",
       "      <th>2005-01-20 15:55:00</th>\n",
       "      <td>42.25</td>\n",
       "      <td>42.270</td>\n",
       "      <td>42.330</td>\n",
       "      <td>42.380</td>\n",
       "      <td>42.330</td>\n",
       "      <td>42.250</td>\n",
       "    </tr>\n",
       "    <tr>\n",
       "      <th>2005-01-20 15:56:00</th>\n",
       "      <td>42.22</td>\n",
       "      <td>42.250</td>\n",
       "      <td>42.270</td>\n",
       "      <td>42.330</td>\n",
       "      <td>42.380</td>\n",
       "      <td>42.330</td>\n",
       "    </tr>\n",
       "    <tr>\n",
       "      <th>2005-01-20 15:57:00</th>\n",
       "      <td>42.26</td>\n",
       "      <td>42.220</td>\n",
       "      <td>42.250</td>\n",
       "      <td>42.270</td>\n",
       "      <td>42.330</td>\n",
       "      <td>42.380</td>\n",
       "    </tr>\n",
       "    <tr>\n",
       "      <th>2005-01-20 15:58:00</th>\n",
       "      <td>42.32</td>\n",
       "      <td>42.260</td>\n",
       "      <td>42.220</td>\n",
       "      <td>42.250</td>\n",
       "      <td>42.270</td>\n",
       "      <td>42.330</td>\n",
       "    </tr>\n",
       "    <tr>\n",
       "      <th>2005-01-20 15:59:00</th>\n",
       "      <td>42.36</td>\n",
       "      <td>42.320</td>\n",
       "      <td>42.260</td>\n",
       "      <td>42.220</td>\n",
       "      <td>42.250</td>\n",
       "      <td>42.270</td>\n",
       "    </tr>\n",
       "  </tbody>\n",
       "</table>\n",
       "<p>2238 rows × 6 columns</p>\n",
       "</div>"
      ],
      "text/plain": [
       "                     close  close(t-1)  close(t-2)  close(t-3)  close(t-4)  \\\n",
       "time                                                                         \n",
       "2005-01-13 09:36:00  42.55      42.457      42.610      42.640      42.700   \n",
       "2005-01-13 09:37:00  42.45      42.550      42.457      42.610      42.640   \n",
       "2005-01-13 09:38:00  42.52      42.450      42.550      42.457      42.610   \n",
       "2005-01-13 09:39:00  42.46      42.520      42.450      42.550      42.457   \n",
       "2005-01-13 09:40:00  42.52      42.460      42.520      42.450      42.550   \n",
       "...                    ...         ...         ...         ...         ...   \n",
       "2005-01-20 15:55:00  42.25      42.270      42.330      42.380      42.330   \n",
       "2005-01-20 15:56:00  42.22      42.250      42.270      42.330      42.380   \n",
       "2005-01-20 15:57:00  42.26      42.220      42.250      42.270      42.330   \n",
       "2005-01-20 15:58:00  42.32      42.260      42.220      42.250      42.270   \n",
       "2005-01-20 15:59:00  42.36      42.320      42.260      42.220      42.250   \n",
       "\n",
       "                     close(t-5)  \n",
       "time                             \n",
       "2005-01-13 09:36:00      42.620  \n",
       "2005-01-13 09:37:00      42.700  \n",
       "2005-01-13 09:38:00      42.640  \n",
       "2005-01-13 09:39:00      42.610  \n",
       "2005-01-13 09:40:00      42.457  \n",
       "...                         ...  \n",
       "2005-01-20 15:55:00      42.250  \n",
       "2005-01-20 15:56:00      42.330  \n",
       "2005-01-20 15:57:00      42.380  \n",
       "2005-01-20 15:58:00      42.330  \n",
       "2005-01-20 15:59:00      42.270  \n",
       "\n",
       "[2238 rows x 6 columns]"
      ]
     },
     "execution_count": 56,
     "metadata": {},
     "output_type": "execute_result"
    }
   ],
   "source": [
    "from copy import deepcopy as dc\n",
    "\n",
    "def make_data(df, parts):\n",
    "    df = dc(df)\n",
    "    \n",
    "   # df.set_index('Date', inplace=True)\n",
    "    \n",
    "    for i in range(1, parts+1):\n",
    "        df[f'close(t-{i})'] = df['close'].shift(i)\n",
    "        \n",
    "    df.dropna(inplace=True)\n",
    "    \n",
    "    return df\n",
    "\n",
    "shift = 5\n",
    "dfs = make_data(df, shift)\n",
    "dfs\n"
   ]
  },
  {
   "cell_type": "code",
   "execution_count": 57,
   "metadata": {},
   "outputs": [],
   "source": [
    "dfs=dfs.to_numpy()"
   ]
  },
  {
   "cell_type": "code",
   "execution_count": 58,
   "metadata": {},
   "outputs": [
    {
     "data": {
      "text/plain": [
       "(2238, 6)"
      ]
     },
     "execution_count": 58,
     "metadata": {},
     "output_type": "execute_result"
    }
   ],
   "source": [
    "dfs.shape"
   ]
  },
  {
   "cell_type": "code",
   "execution_count": 59,
   "metadata": {},
   "outputs": [
    {
     "data": {
      "text/plain": [
       "array([[-1.0548265 , -1.16166549, -0.9864028 , -0.95238145, -0.88399743,\n",
       "        -0.97627727],\n",
       "       [-1.16957803, -1.05494011, -1.16201337, -0.98682275, -0.9528997 ,\n",
       "        -0.88438685],\n",
       "       [-1.08925196, -1.16969858, -1.05526969, -1.16247338, -0.98735083,\n",
       "        -0.95330467],\n",
       "       ...,\n",
       "       [-1.38760594, -1.43364308, -1.39960414, -1.37715749, -1.30889475,\n",
       "        -1.25194855],\n",
       "       [-1.31875502, -1.38773969, -1.43403758, -1.40011835, -1.37779702,\n",
       "        -1.30938007],\n",
       "       [-1.27285441, -1.3188846 , -1.38812632, -1.43455965, -1.40076444,\n",
       "        -1.37829789]])"
      ]
     },
     "execution_count": 59,
     "metadata": {},
     "output_type": "execute_result"
    }
   ],
   "source": [
    "from sklearn.preprocessing import StandardScaler\n",
    "\n",
    "sc = StandardScaler()\n",
    "dfs = sc.fit_transform(dfs)\n",
    "\n",
    "dfs"
   ]
  },
  {
   "cell_type": "code",
   "execution_count": 60,
   "metadata": {},
   "outputs": [
    {
     "data": {
      "text/plain": [
       "array([[-1.0548265 ],\n",
       "       [-1.16957803],\n",
       "       [-1.08925196],\n",
       "       ...,\n",
       "       [-1.38760594],\n",
       "       [-1.31875502],\n",
       "       [-1.27285441]])"
      ]
     },
     "execution_count": 60,
     "metadata": {},
     "output_type": "execute_result"
    }
   ],
   "source": [
    "X=dfs[:,1:]\n",
    "Y=dfs[:,0:1]\n",
    "Y"
   ]
  },
  {
   "cell_type": "code",
   "execution_count": 61,
   "metadata": {},
   "outputs": [],
   "source": [
    "X = dc(np.flip(X, axis=1))"
   ]
  },
  {
   "cell_type": "code",
   "execution_count": 62,
   "metadata": {},
   "outputs": [
    {
     "data": {
      "text/plain": [
       "2126"
      ]
     },
     "execution_count": 62,
     "metadata": {},
     "output_type": "execute_result"
    }
   ],
   "source": [
    "split = int(len(X) * 0.95)\n",
    "\n",
    "split"
   ]
  },
  {
   "cell_type": "code",
   "execution_count": 63,
   "metadata": {},
   "outputs": [],
   "source": [
    "X_train= X[:split]\n",
    "X_test=X[split:]\n",
    "Y_train= Y[:split]\n",
    "Y_test=Y[split:]"
   ]
  },
  {
   "cell_type": "code",
   "execution_count": 64,
   "metadata": {},
   "outputs": [
    {
     "data": {
      "text/plain": [
       "(2126, 5, 1)"
      ]
     },
     "execution_count": 64,
     "metadata": {},
     "output_type": "execute_result"
    }
   ],
   "source": [
    "X_train = X_train.reshape((-1, shift, 1))  #FOR LSTM MODEL WE NEED 3-D DATA\n",
    "X_test = X_test.reshape((-1, shift, 1))\n",
    "\n",
    "Y_train = Y_train.reshape((-1, 1))\n",
    "Y_test = Y_test.reshape((-1, 1))\n",
    "X_train.shape"
   ]
  },
  {
   "cell_type": "code",
   "execution_count": 65,
   "metadata": {},
   "outputs": [
    {
     "data": {
      "text/plain": [
       "(torch.Size([2126, 5, 1]),\n",
       " torch.Size([112, 5, 1]),\n",
       " torch.Size([2126, 1]),\n",
       " torch.Size([112, 1]))"
      ]
     },
     "execution_count": 65,
     "metadata": {},
     "output_type": "execute_result"
    }
   ],
   "source": [
    "import torch\n",
    "import torch.nn as nn\n",
    "X_train = torch.tensor(X_train).float()\n",
    "Y_train = torch.tensor(Y_train).float()\n",
    "X_test = torch.tensor(X_test).float()\n",
    "Y_test = torch.tensor(Y_test).float()\n",
    "\n",
    "X_train.shape, X_test.shape, Y_train.shape, Y_test.shape"
   ]
  },
  {
   "cell_type": "code",
   "execution_count": 66,
   "metadata": {},
   "outputs": [],
   "source": [
    "#Loading the data for pytorch\n",
    "from torch.utils.data import Dataset\n",
    "\n",
    "class Data(Dataset):\n",
    "    def __init__(self, X, y):\n",
    "        self.X = X\n",
    "        self.y = y\n",
    "\n",
    "    def __len__(self):\n",
    "        return len(self.X)\n",
    "\n",
    "    def __getitem__(self, i):\n",
    "        return self.X[i], self.y[i]\n",
    "    \n",
    "train_data = Data(X_train, Y_train)\n",
    "test_data = Data(X_test, Y_test)"
   ]
  },
  {
   "cell_type": "code",
   "execution_count": 67,
   "metadata": {},
   "outputs": [],
   "source": [
    "from torch.utils.data import DataLoader\n",
    "\n",
    "batch_size = 10\n",
    "\n",
    "train = DataLoader(train_data, batch_size=batch_size)\n",
    "test = DataLoader(test_data, batch_size=batch_size)"
   ]
  },
  {
   "cell_type": "code",
   "execution_count": 68,
   "metadata": {},
   "outputs": [
    {
     "data": {
      "text/plain": [
       "LSTM(\n",
       "  (lstm): LSTM(1, 4, batch_first=True)\n",
       "  (fc): Linear(in_features=4, out_features=1, bias=True)\n",
       ")"
      ]
     },
     "execution_count": 68,
     "metadata": {},
     "output_type": "execute_result"
    }
   ],
   "source": [
    "class LSTM(nn.Module):\n",
    "    def __init__(self, input_size, hidden_size, num_stacked_layers):\n",
    "        super().__init__()\n",
    "        self.hidden_size = hidden_size\n",
    "        self.num_stacked_layers = num_stacked_layers\n",
    "\n",
    "        self.lstm = nn.LSTM(input_size, hidden_size, num_stacked_layers, \n",
    "                            batch_first=True)\n",
    "        \n",
    "        self.fc = nn.Linear(hidden_size, 1)\n",
    "\n",
    "    def forward(self, x):\n",
    "        batch_size = x.size(0)\n",
    "        h0 = torch.zeros(self.num_stacked_layers, batch_size, self.hidden_size)\n",
    "        c0 = torch.zeros(self.num_stacked_layers, batch_size, self.hidden_size)\n",
    "        \n",
    "        out, _ = self.lstm(x, (h0, c0))\n",
    "        out = self.fc(out[:, -1, :])\n",
    "        return out\n",
    "\n",
    "model = LSTM(1, 4, 1)\n",
    "model\n",
    "model"
   ]
  },
  {
   "cell_type": "code",
   "execution_count": 69,
   "metadata": {},
   "outputs": [],
   "source": [
    "learning_rate=0.001\n",
    "epochs=30\n",
    "lossf= torch.nn.MSELoss()\n",
    "optimizer=torch.optim.Adam(model.parameters(), lr=learning_rate)"
   ]
  },
  {
   "cell_type": "code",
   "execution_count": 70,
   "metadata": {},
   "outputs": [],
   "source": [
    "def training():\n",
    "    model.train(True)\n",
    "    print(f'Epoch: {epoch + 1}')\n",
    "    running_loss = 0.0\n",
    "    \n",
    "    for batch_index, batch in enumerate(train):\n",
    "        x_batch, y_batch = batch[0], batch[1]\n",
    "        \n",
    "        output = model(x_batch)\n",
    "        loss = lossf(output, y_batch)\n",
    "        running_loss += loss.item()\n",
    "        \n",
    "        optimizer.zero_grad()\n",
    "        loss.backward()\n",
    "        optimizer.step()\n",
    "\n",
    "        if batch_index % 100 == 99:  # print every 100 batches\n",
    "            avg_loss_across_batches = running_loss / 100\n",
    "            print('Batch {0}, Loss: {1:.3f}'.format(batch_index+1,\n",
    "                                                    avg_loss_across_batches))\n",
    "            running_loss = 0.0\n",
    "    print()"
   ]
  },
  {
   "cell_type": "code",
   "execution_count": 71,
   "metadata": {},
   "outputs": [],
   "source": [
    "def validate_one_epoch():\n",
    "    model.train(False)\n",
    "    running_loss = 0.0\n",
    "    \n",
    "    for batch_index, batch in enumerate(test):\n",
    "        x_batch, y_batch = batch[0], batch[1]\n",
    "        \n",
    "        with torch.no_grad():\n",
    "            output = model(x_batch)\n",
    "            loss = lossf(output, y_batch)\n",
    "            running_loss += loss.item()\n",
    "\n",
    "    avg_loss_across_batches = running_loss / len(test)\n",
    "    \n",
    "    print('Val Loss: {0:.3f}'.format(avg_loss_across_batches))\n",
    "    print('***************************************************')\n",
    "    print()"
   ]
  },
  {
   "cell_type": "code",
   "execution_count": 72,
   "metadata": {},
   "outputs": [
    {
     "name": "stdout",
     "output_type": "stream",
     "text": [
      "Epoch: 1\n",
      "Batch 100, Loss: 0.512\n",
      "Batch 200, Loss: 1.410\n",
      "\n",
      "Val Loss: 2.235\n",
      "***************************************************\n",
      "\n",
      "Epoch: 2\n",
      "Batch 100, Loss: 0.425\n",
      "Batch 200, Loss: 1.175\n",
      "\n",
      "Val Loss: 1.195\n",
      "***************************************************\n",
      "\n",
      "Epoch: 3\n",
      "Batch 100, Loss: 0.209\n",
      "Batch 200, Loss: 0.405\n",
      "\n",
      "Val Loss: 0.040\n",
      "***************************************************\n",
      "\n",
      "Epoch: 4\n",
      "Batch 100, Loss: 0.081\n",
      "Batch 200, Loss: 0.143\n",
      "\n",
      "Val Loss: 0.019\n",
      "***************************************************\n",
      "\n",
      "Epoch: 5\n",
      "Batch 100, Loss: 0.073\n",
      "Batch 200, Loss: 0.099\n",
      "\n",
      "Val Loss: 0.032\n",
      "***************************************************\n",
      "\n",
      "Epoch: 6\n",
      "Batch 100, Loss: 0.055\n",
      "Batch 200, Loss: 0.078\n",
      "\n",
      "Val Loss: 0.037\n",
      "***************************************************\n",
      "\n",
      "Epoch: 7\n",
      "Batch 100, Loss: 0.042\n",
      "Batch 200, Loss: 0.063\n",
      "\n",
      "Val Loss: 0.038\n",
      "***************************************************\n",
      "\n",
      "Epoch: 8\n",
      "Batch 100, Loss: 0.032\n",
      "Batch 200, Loss: 0.052\n",
      "\n",
      "Val Loss: 0.036\n",
      "***************************************************\n",
      "\n",
      "Epoch: 9\n",
      "Batch 100, Loss: 0.025\n",
      "Batch 200, Loss: 0.043\n",
      "\n",
      "Val Loss: 0.031\n",
      "***************************************************\n",
      "\n",
      "Epoch: 10\n",
      "Batch 100, Loss: 0.020\n",
      "Batch 200, Loss: 0.037\n",
      "\n",
      "Val Loss: 0.026\n",
      "***************************************************\n",
      "\n",
      "Epoch: 11\n",
      "Batch 100, Loss: 0.017\n",
      "Batch 200, Loss: 0.033\n",
      "\n",
      "Val Loss: 0.019\n",
      "***************************************************\n",
      "\n",
      "Epoch: 12\n",
      "Batch 100, Loss: 0.014\n",
      "Batch 200, Loss: 0.029\n",
      "\n",
      "Val Loss: 0.014\n",
      "***************************************************\n",
      "\n",
      "Epoch: 13\n",
      "Batch 100, Loss: 0.012\n",
      "Batch 200, Loss: 0.027\n",
      "\n",
      "Val Loss: 0.010\n",
      "***************************************************\n",
      "\n",
      "Epoch: 14\n",
      "Batch 100, Loss: 0.011\n",
      "Batch 200, Loss: 0.025\n",
      "\n",
      "Val Loss: 0.007\n",
      "***************************************************\n",
      "\n",
      "Epoch: 15\n",
      "Batch 100, Loss: 0.011\n",
      "Batch 200, Loss: 0.023\n",
      "\n",
      "Val Loss: 0.005\n",
      "***************************************************\n",
      "\n",
      "Epoch: 16\n",
      "Batch 100, Loss: 0.010\n",
      "Batch 200, Loss: 0.022\n",
      "\n",
      "Val Loss: 0.004\n",
      "***************************************************\n",
      "\n",
      "Epoch: 17\n",
      "Batch 100, Loss: 0.010\n",
      "Batch 200, Loss: 0.020\n",
      "\n",
      "Val Loss: 0.004\n",
      "***************************************************\n",
      "\n",
      "Epoch: 18\n",
      "Batch 100, Loss: 0.010\n",
      "Batch 200, Loss: 0.019\n",
      "\n",
      "Val Loss: 0.004\n",
      "***************************************************\n",
      "\n",
      "Epoch: 19\n",
      "Batch 100, Loss: 0.010\n",
      "Batch 200, Loss: 0.019\n",
      "\n",
      "Val Loss: 0.004\n",
      "***************************************************\n",
      "\n",
      "Epoch: 20\n",
      "Batch 100, Loss: 0.009\n",
      "Batch 200, Loss: 0.018\n",
      "\n",
      "Val Loss: 0.004\n",
      "***************************************************\n",
      "\n",
      "Epoch: 21\n",
      "Batch 100, Loss: 0.009\n",
      "Batch 200, Loss: 0.017\n",
      "\n",
      "Val Loss: 0.005\n",
      "***************************************************\n",
      "\n",
      "Epoch: 22\n",
      "Batch 100, Loss: 0.009\n",
      "Batch 200, Loss: 0.017\n",
      "\n",
      "Val Loss: 0.005\n",
      "***************************************************\n",
      "\n",
      "Epoch: 23\n",
      "Batch 100, Loss: 0.009\n",
      "Batch 200, Loss: 0.016\n",
      "\n",
      "Val Loss: 0.005\n",
      "***************************************************\n",
      "\n",
      "Epoch: 24\n",
      "Batch 100, Loss: 0.009\n",
      "Batch 200, Loss: 0.016\n",
      "\n",
      "Val Loss: 0.005\n",
      "***************************************************\n",
      "\n",
      "Epoch: 25\n",
      "Batch 100, Loss: 0.009\n",
      "Batch 200, Loss: 0.016\n",
      "\n",
      "Val Loss: 0.005\n",
      "***************************************************\n",
      "\n",
      "Epoch: 26\n",
      "Batch 100, Loss: 0.008\n",
      "Batch 200, Loss: 0.015\n",
      "\n",
      "Val Loss: 0.005\n",
      "***************************************************\n",
      "\n",
      "Epoch: 27\n",
      "Batch 100, Loss: 0.008\n",
      "Batch 200, Loss: 0.015\n",
      "\n",
      "Val Loss: 0.004\n",
      "***************************************************\n",
      "\n",
      "Epoch: 28\n",
      "Batch 100, Loss: 0.008\n",
      "Batch 200, Loss: 0.015\n",
      "\n",
      "Val Loss: 0.004\n",
      "***************************************************\n",
      "\n",
      "Epoch: 29\n",
      "Batch 100, Loss: 0.008\n",
      "Batch 200, Loss: 0.015\n",
      "\n",
      "Val Loss: 0.004\n",
      "***************************************************\n",
      "\n",
      "Epoch: 30\n",
      "Batch 100, Loss: 0.008\n",
      "Batch 200, Loss: 0.014\n",
      "\n",
      "Val Loss: 0.004\n",
      "***************************************************\n",
      "\n"
     ]
    }
   ],
   "source": [
    "\n",
    "for epoch in range(epochs):\n",
    "    training()\n",
    "    validate_one_epoch()"
   ]
  },
  {
   "cell_type": "code",
   "execution_count": 81,
   "metadata": {},
   "outputs": [
    {
     "data": {
      "image/png": "[encoded data removed]",
      "text/plain": [
       "<Figure size 800x800 with 1 Axes>"
      ]
     },
     "metadata": {},
     "output_type": "display_data"
    }
   ],
   "source": [
    "with torch.no_grad():\n",
    "    predicted = model(X_train).numpy()\n",
    "plt.figure(figsize=(8, 8))\n",
    "    \n",
    "plt.plot(Y_train, label='Actual Closing price',color=\"blue\")\n",
    "plt.plot(predicted, label='Predicted Closing price',color=\"g\")\n",
    "plt.xlabel('Day')\n",
    "plt.ylabel('Close')\n",
    "plt.grid(True)\n",
    "plt.legend()\n",
    "plt.show()"
   ]
  },
  {
   "cell_type": "code",
   "execution_count": null,
   "metadata": {},
   "outputs": [],
   "source": []
  }
 ],
 "metadata": {
  "kernelspec": {
   "display_name": "Python 3",
   "language": "python",
   "name": "python3"
  },
  "language_info": {
   "codemirror_mode": {
    "name": "ipython",
    "version": 3
   },
   "file_extension": ".py",
   "mimetype": "text/x-python",
   "name": "python",
   "nbconvert_exporter": "python",
   "pygments_lexer": "ipython3",
   "version": "3.11.5"
  }
 },
 "nbformat": 4,
 "nbformat_minor": 2
}
